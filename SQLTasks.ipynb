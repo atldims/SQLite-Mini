{
 "cells": [
  {
   "cell_type": "code",
   "execution_count": 1,
   "metadata": {},
   "outputs": [],
   "source": [
    "import sqlite3"
   ]
  },
  {
   "cell_type": "code",
   "execution_count": 2,
   "metadata": {},
   "outputs": [],
   "source": [
    "from sqlite3 import Error\n",
    " \n",
    "def create_connection(db_file):\n",
    "    conn = None\n",
    "    try:\n",
    "        conn = sqlite3.connect(db_file)\n",
    "        print(sqlite3.version)\n",
    "    except Error as e:\n",
    "        print(e)\n",
    " \n",
    "    return conn"
   ]
  },
  {
   "cell_type": "code",
   "execution_count": 3,
   "metadata": {},
   "outputs": [],
   "source": [
    "def Q(conn,sql):\n",
    "    cur = conn.cursor()    \n",
    "    cur.execute(sql)\n",
    "    rows = cur.fetchall()\n",
    " \n",
    "    for row in rows:\n",
    "        print(row)"
   ]
  },
  {
   "cell_type": "code",
   "execution_count": 4,
   "metadata": {},
   "outputs": [
    {
     "name": "stdout",
     "output_type": "stream",
     "text": [
      "2.6.0\n"
     ]
    }
   ],
   "source": [
    "database = \"sqlite_db_pythonsqlite.db\" \n",
    "conn = create_connection(database)"
   ]
  },
  {
   "cell_type": "code",
   "execution_count": 5,
   "metadata": {},
   "outputs": [
    {
     "name": "stdout",
     "output_type": "stream",
     "text": [
      "Q-10: List of facilities with a total revenue less than 1000.\n",
      "('Table Tennis', 180)\n",
      "('Snooker Table', 240)\n",
      "('Pool Table', 270)\n"
     ]
    }
   ],
   "source": [
    "# Q-10\n",
    "sql= \"\"\"\n",
    "    select\n",
    "    subq.name\n",
    "    , subq.revenue\n",
    "    from (\n",
    "          select\n",
    "          f.name\n",
    "          , sum(case when b.memid = 0 then b.slots * f.guestcost\n",
    "             else b.slots * f.membercost end) as revenue\n",
    "          from\n",
    "          Facilities as f\n",
    "          inner join Bookings as b \n",
    "          on f.facid = b.facid\n",
    "          group by f.name) as subq\n",
    "    where\n",
    "    subq.revenue < 1000\n",
    "    order by subq.revenue\n",
    "    \"\"\"\n",
    "        \n",
    "with conn: \n",
    "    print(\"Q-10: List of facilities with a total revenue less than 1000.\")\n",
    "    Q(conn,sql)\n"
   ]
  },
  {
   "cell_type": "code",
   "execution_count": 9,
   "metadata": {},
   "outputs": [
    {
     "name": "stdout",
     "output_type": "stream",
     "text": [
      "Q-11: Report of members and who recommended them in alphabetic surname,firstname order\n",
      "(15, 'Bader', 'Florence', 'Ponder Stibbons')\n",
      "(12, 'Baker', 'Anne', 'Ponder Stibbons')\n",
      "(16, 'Baker', 'Timothy', 'Jemima Farrell')\n",
      "(8, 'Boothe', 'Tim', 'Tim Rownam')\n",
      "(5, 'Butters', 'Gerald', 'Darren Smith')\n",
      "(22, 'Coplin', 'Joan', 'Timothy Baker')\n",
      "(36, 'Crumpet', 'Erica', 'Tracy Smith')\n",
      "(7, 'Dare', 'Nancy', 'Janice Joplette')\n",
      "(20, 'Genting', 'Matthew', 'Gerald Butters')\n",
      "(35, 'Hunt', 'John', 'Millicent Purview')\n",
      "(11, 'Jones', 'David', 'Janice Joplette')\n",
      "(26, 'Jones', 'Douglas', 'David Jones')\n",
      "(4, 'Joplette', 'Janice', 'Darren Smith')\n",
      "(21, 'Mackenzie', 'Anna', 'Darren Smith')\n",
      "(10, 'Owen', 'Charles', 'Darren Smith')\n",
      "(17, 'Pinker', 'David', 'Jemima Farrell')\n",
      "(30, 'Purview', 'Millicent', 'Tracy Smith')\n",
      "(27, 'Rumney', 'Henrietta', 'Matthew Genting')\n",
      "(24, 'Sarwin', 'Ramnaresh', 'Florence Bader')\n",
      "(14, 'Smith', 'Jack', 'Darren Smith')\n",
      "(9, 'Stibbons', 'Ponder', 'Burton Tracy')\n",
      "(29, 'Worthington-Smyth', 'Henry', 'Tracy Smith')\n"
     ]
    }
   ],
   "source": [
    "# Q-11\n",
    "sql=\"\"\"\n",
    "    select\n",
    "    m.memid\n",
    "    , m.surname\n",
    "    , m.firstname\n",
    "    , (r.firstname||' '||r.surname) as recommender\n",
    "    from\n",
    "    Members as m\n",
    "    inner join Members as r\n",
    "    on m.recommendedby = r.memid\n",
    "    where\n",
    "    m.memid != 0\n",
    "    order by m.surname, m.firstname\n",
    "    \"\"\"\n",
    "\n",
    "\n",
    "with conn: \n",
    "    print(\"Q-11: Report of members and who recommended them in alphabetic surname,firstname order\")\n",
    "    Q(conn,sql)"
   ]
  },
  {
   "cell_type": "code",
   "execution_count": 7,
   "metadata": {},
   "outputs": [
    {
     "name": "stdout",
     "output_type": "stream",
     "text": [
      "Q-12: Facilities with their usage by member, but not guests\n",
      "(0, 'Tennis Court 1', 957)\n",
      "(1, 'Tennis Court 2', 882)\n",
      "(2, 'Badminton Court', 1086)\n",
      "(3, 'Table Tennis', 794)\n",
      "(4, 'Massage Room 1', 884)\n",
      "(5, 'Massage Room 2', 54)\n",
      "(6, 'Squash Court', 418)\n",
      "(7, 'Snooker Table', 860)\n",
      "(8, 'Pool Table', 856)\n"
     ]
    }
   ],
   "source": [
    "# Q-12\n",
    "sql=\"\"\"\n",
    "    select\n",
    "    b.facid\n",
    "    , f.name\n",
    "    , sum( b.slots ) as member_usage\n",
    "    from\n",
    "    Bookings as b\n",
    "    inner join Facilities as f \n",
    "    on b.facid = f.facid\n",
    "    where\n",
    "    b.memid !=0\n",
    "    group by b.facid\n",
    "    \"\"\"\n",
    "\n",
    "with conn: \n",
    "    print(\"Q-12: Facilities with their usage by member, but not guests\")\n",
    "    Q(conn,sql)"
   ]
  },
  {
   "cell_type": "code",
   "execution_count": 8,
   "metadata": {},
   "outputs": [
    {
     "name": "stdout",
     "output_type": "stream",
     "text": [
      "Q-13: Facilities usage by month, but not guests\n",
      "(0, 'Tennis Court 1', '07', 201)\n",
      "(0, 'Tennis Court 1', '08', 339)\n",
      "(0, 'Tennis Court 1', '09', 417)\n",
      "(1, 'Tennis Court 2', '07', 123)\n",
      "(1, 'Tennis Court 2', '08', 345)\n",
      "(1, 'Tennis Court 2', '09', 414)\n",
      "(2, 'Badminton Court', '07', 165)\n",
      "(2, 'Badminton Court', '08', 414)\n",
      "(2, 'Badminton Court', '09', 507)\n",
      "(3, 'Table Tennis', '07', 98)\n",
      "(3, 'Table Tennis', '08', 296)\n",
      "(3, 'Table Tennis', '09', 400)\n",
      "(4, 'Massage Room 1', '07', 166)\n",
      "(4, 'Massage Room 1', '08', 316)\n",
      "(4, 'Massage Room 1', '09', 402)\n",
      "(5, 'Massage Room 2', '07', 8)\n",
      "(5, 'Massage Room 2', '08', 18)\n",
      "(5, 'Massage Room 2', '09', 28)\n",
      "(6, 'Squash Court', '07', 50)\n",
      "(6, 'Squash Court', '08', 184)\n",
      "(6, 'Squash Court', '09', 184)\n",
      "(7, 'Snooker Table', '07', 140)\n",
      "(7, 'Snooker Table', '08', 316)\n",
      "(7, 'Snooker Table', '09', 404)\n",
      "(8, 'Pool Table', '07', 110)\n",
      "(8, 'Pool Table', '08', 303)\n",
      "(8, 'Pool Table', '09', 443)\n"
     ]
    }
   ],
   "source": [
    "# Q-13\n",
    "sql=\"\"\"\n",
    "    select\n",
    "    b.facid\n",
    "    , f.name\n",
    "    , substr(b.starttime,6,2) as month\n",
    "    , sum(b.slots) as member_usage\n",
    "    from\n",
    "    Bookings as b\n",
    "    inner join Facilities as f \n",
    "    on b.facid = f.facid\n",
    "    where\n",
    "    b.memid !=0\n",
    "    group by b.facid, month\n",
    "    \"\"\"\n",
    "\n",
    "with conn: \n",
    "    print(\"Q-13: Facilities usage by month, but not guests\")\n",
    "    Q(conn,sql)"
   ]
  },
  {
   "cell_type": "code",
   "execution_count": null,
   "metadata": {},
   "outputs": [],
   "source": []
  }
 ],
 "metadata": {
  "kernelspec": {
   "display_name": "Python 3",
   "language": "python",
   "name": "python3"
  },
  "language_info": {
   "codemirror_mode": {
    "name": "ipython",
    "version": 3
   },
   "file_extension": ".py",
   "mimetype": "text/x-python",
   "name": "python",
   "nbconvert_exporter": "python",
   "pygments_lexer": "ipython3",
   "version": "3.8.3"
  }
 },
 "nbformat": 4,
 "nbformat_minor": 4
}
